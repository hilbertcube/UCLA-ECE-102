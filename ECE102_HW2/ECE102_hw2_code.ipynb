{
 "cells": [
  {
   "cell_type": "code",
   "execution_count": null,
   "id": "bc7f951e-605a-41c6-84b4-f96a396bc763",
   "metadata": {},
   "outputs": [],
   "source": [
    "import matplotlib.pyplot as plt\n",
    "import numpy as np"
   ]
  },
  {
   "cell_type": "markdown",
   "id": "9935e8e5-8feb-4c4a-9ce8-68ebc715d142",
   "metadata": {},
   "source": [
    "## Question 5a"
   ]
  },
  {
   "cell_type": "markdown",
   "id": "beace6b3-9d7b-4085-9833-e01cfe43acaf",
   "metadata": {},
   "source": [
    "A complex sinusoid is denoted:\n",
    "\t$$y(t)=e^{\\left(\\sigma+j\\omega\\right)t}$$\n",
    "\tFirst compute a vector representing time from 0 to 10 seconds in about 500 steps (You can use np.linspace). Use this vector to compute a complex sinusoid with a period of 2 seconds, and a decay rate that reduces the signal level at 10 seconds to \thalf its original value. What $\\sigma$ and $\\omega$ did you choose? If your complex exponential is $y$, plot the signal."
   ]
  },
  {
   "cell_type": "code",
   "execution_count": null,
   "id": "478960a4-7c38-47b8-a6e0-f0725cec19ed",
   "metadata": {},
   "outputs": [],
   "source": [
    "t = # YOUR CODE HERE\n",
    "sigma = # YOUR CODE HERE\n",
    "omega = # YOUR CODE HERE\n",
    "y = # YOUR CODE HERE\n",
    "\n",
    "# The code below will plot the signal on the real-imaginary complex plane\n",
    "plt.plot(np.real(y), np.imag(y))\n",
    "plt.show()"
   ]
  },
  {
   "cell_type": "markdown",
   "id": "7879e5dc-6ebb-4149-8f9d-e54f1978727e",
   "metadata": {},
   "source": [
    "## Question 5b"
   ]
  },
  {
   "cell_type": "markdown",
   "id": "5ddab2d6-5eb1-4a1a-90d9-64b53499270c",
   "metadata": {},
   "source": [
    "Use the np.real() and np.imag() functions to extract the real and imaginary parts of the complex exponential, and plot them as a function of time (plot them separately). This should look more reasonable. Label your axes, \tand check that your signal has the required period and decay rate. "
   ]
  },
  {
   "cell_type": "code",
   "execution_count": null,
   "id": "8fc805eb-08da-474d-b302-0918c0a07e28",
   "metadata": {},
   "outputs": [],
   "source": [
    "real_part = # YOUR CODE HERE\n",
    "imag_part = # YOUR CODE HERE\n",
    "\n",
    "# The code below will plot out the real and imaginary parts separately\n",
    "plt.plot(t, real_part)\n",
    "plt.show()\n",
    "plt.plot(t, imag_part)\n",
    "plt.show()"
   ]
  },
  {
   "cell_type": "markdown",
   "id": "e2eb19c5-3ba3-4f52-8632-18194944d688",
   "metadata": {},
   "source": [
    "## Question 5c"
   ]
  },
  {
   "cell_type": "markdown",
   "id": "aed99974-471a-4e91-96a2-28f7435faffb",
   "metadata": {},
   "source": [
    "Use the np.abs() and np.angle() functions to plot the magnitude and phase angle of the complex \t\texponential (plot them in the same figure). Scale the np.angle() plot by dividing it by $2\\pi$ so that it fits well on the same plot as the np.abs() plot (i.e. plot the angle in cycles, instead of radians, the function np.angle(x) returns the angle in radians)."
   ]
  },
  {
   "cell_type": "code",
   "execution_count": null,
   "id": "ed0ad749-3fa8-4d73-b245-42b58a6241cf",
   "metadata": {},
   "outputs": [],
   "source": [
    "magnitude = # YOUR CODE HERE\n",
    "angle = # YOUR CODE HERE\n",
    "\n",
    "# The code below will plot out the magnitude and phase parts on the same plot\n",
    "plt.plot(t, magnitude, label='magnitude', color='green')\n",
    "plt.plot(t, angle, label='phase', color='red')\n",
    "plt.show()"
   ]
  }
 ],
 "metadata": {
  "kernelspec": {
   "display_name": "Python 3 (ipykernel)",
   "language": "python",
   "name": "python3"
  },
  "language_info": {
   "codemirror_mode": {
    "name": "ipython",
    "version": 3
   },
   "file_extension": ".py",
   "mimetype": "text/x-python",
   "name": "python",
   "nbconvert_exporter": "python",
   "pygments_lexer": "ipython3",
   "version": "3.9.13"
  }
 },
 "nbformat": 4,
 "nbformat_minor": 5
}
